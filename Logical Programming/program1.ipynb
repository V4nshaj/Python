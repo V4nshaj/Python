{
 "cells": [
  {
   "cell_type": "code",
   "execution_count": 2,
   "metadata": {},
   "outputs": [
    {
     "ename": "ImportError",
     "evalue": "cannot import name 'Iterator' from 'collections' (c:\\Python\\Python3.10\\lib\\collections\\__init__.py)",
     "output_type": "error",
     "traceback": [
      "\u001b[1;31m---------------------------------------------------------------------------\u001b[0m",
      "\u001b[1;31mImportError\u001b[0m                               Traceback (most recent call last)",
      "\u001b[1;32md:\\PROG\\pYTHON\\Logical Programming\\program1.ipynb Cell 1'\u001b[0m in \u001b[0;36m<cell line: 1>\u001b[1;34m()\u001b[0m\n\u001b[1;32m----> <a href='vscode-notebook-cell:/d%3A/PROG/pYTHON/Logical%20Programming/program1.ipynb#ch0000000?line=0'>1</a>\u001b[0m \u001b[39mfrom\u001b[39;00m \u001b[39mkanren\u001b[39;00m \u001b[39mimport\u001b[39;00m isvar, run, membero\n\u001b[0;32m      <a href='vscode-notebook-cell:/d%3A/PROG/pYTHON/Logical%20Programming/program1.ipynb#ch0000000?line=1'>2</a>\u001b[0m \u001b[39mfrom\u001b[39;00m \u001b[39mkanren\u001b[39;00m\u001b[39m.\u001b[39;00m\u001b[39mcore\u001b[39;00m \u001b[39mimport\u001b[39;00m success, fail, goaleval, condeseq, eq, var\n\u001b[0;32m      <a href='vscode-notebook-cell:/d%3A/PROG/pYTHON/Logical%20Programming/program1.ipynb#ch0000000?line=2'>3</a>\u001b[0m \u001b[39mfrom\u001b[39;00m \u001b[39msympy\u001b[39;00m\u001b[39m.\u001b[39;00m\u001b[39mntheory\u001b[39;00m\u001b[39m.\u001b[39;00m\u001b[39mgenerate\u001b[39;00m \u001b[39mimport\u001b[39;00m prime, isprime\n",
      "File \u001b[1;32mc:\\Python\\Python3.10\\lib\\site-packages\\kanren\\__init__.py:7\u001b[0m, in \u001b[0;36m<module>\u001b[1;34m\u001b[0m\n\u001b[0;32m      2\u001b[0m \u001b[39m\"\"\"\u001b[39;00m\n\u001b[0;32m      3\u001b[0m \u001b[39mkanren is a Python library for logic and relational programming.\u001b[39;00m\n\u001b[0;32m      4\u001b[0m \u001b[39m\"\"\"\u001b[39;00m\n\u001b[0;32m      5\u001b[0m \u001b[39mfrom\u001b[39;00m \u001b[39m__future__\u001b[39;00m \u001b[39mimport\u001b[39;00m absolute_import\n\u001b[1;32m----> 7\u001b[0m \u001b[39mfrom\u001b[39;00m \u001b[39munification\u001b[39;00m \u001b[39mimport\u001b[39;00m (unify, reify, unifiable, var, isvar, \u001b[39mvars\u001b[39m, variables,\n\u001b[0;32m      8\u001b[0m                          Var)\n\u001b[0;32m     10\u001b[0m \u001b[39mfrom\u001b[39;00m \u001b[39m.\u001b[39;00m\u001b[39mcore\u001b[39;00m \u001b[39mimport\u001b[39;00m run, eq, conde, lall, lany\n\u001b[0;32m     11\u001b[0m \u001b[39mfrom\u001b[39;00m \u001b[39m.\u001b[39;00m\u001b[39mgoals\u001b[39;00m \u001b[39mimport\u001b[39;00m seteq, permuteq, goalify, membero\n",
      "File \u001b[1;32mc:\\Python\\Python3.10\\lib\\site-packages\\unification\\__init__.py:1\u001b[0m, in \u001b[0;36m<module>\u001b[1;34m\u001b[0m\n\u001b[1;32m----> 1\u001b[0m \u001b[39mfrom\u001b[39;00m \u001b[39m.\u001b[39;00m\u001b[39mcore\u001b[39;00m \u001b[39mimport\u001b[39;00m unify, reify\n\u001b[0;32m      2\u001b[0m \u001b[39mfrom\u001b[39;00m \u001b[39m.\u001b[39;00m\u001b[39mmore\u001b[39;00m \u001b[39mimport\u001b[39;00m unifiable\n\u001b[0;32m      3\u001b[0m \u001b[39mfrom\u001b[39;00m \u001b[39m.\u001b[39;00m\u001b[39mvariable\u001b[39;00m \u001b[39mimport\u001b[39;00m var, isvar, \u001b[39mvars\u001b[39m, variables, Var\n",
      "File \u001b[1;32mc:\\Python\\Python3.10\\lib\\site-packages\\unification\\core.py:2\u001b[0m, in \u001b[0;36m<module>\u001b[1;34m\u001b[0m\n\u001b[0;32m      1\u001b[0m \u001b[39mfrom\u001b[39;00m \u001b[39mfunctools\u001b[39;00m \u001b[39mimport\u001b[39;00m partial\n\u001b[1;32m----> 2\u001b[0m \u001b[39mfrom\u001b[39;00m \u001b[39mcollections\u001b[39;00m \u001b[39mimport\u001b[39;00m Iterator\n\u001b[0;32m      3\u001b[0m \u001b[39mfrom\u001b[39;00m \u001b[39mtoolz\u001b[39;00m\u001b[39m.\u001b[39;00m\u001b[39mcompatibility\u001b[39;00m \u001b[39mimport\u001b[39;00m iteritems, \u001b[39mmap\u001b[39m\n\u001b[0;32m      4\u001b[0m \u001b[39mfrom\u001b[39;00m \u001b[39mtoolz\u001b[39;00m \u001b[39mimport\u001b[39;00m assoc\n",
      "\u001b[1;31mImportError\u001b[0m: cannot import name 'Iterator' from 'collections' (c:\\Python\\Python3.10\\lib\\collections\\__init__.py)"
     ]
    }
   ],
   "source": [
    "from kanren import isvar, run, membero\n",
    "from kanren.core import success, fail, goaleval, condeseq, eq, var\n",
    "from sympy.ntheory.generate import prime, isprime\n",
    "import itertools as it\n",
    "\n"
   ]
  },
  {
   "cell_type": "code",
   "execution_count": 3,
   "metadata": {},
   "outputs": [],
   "source": [
    "def prime_check(x):\n",
    "    if isvar(x):\n",
    "        return condeseq([(eq,x,p)] for p in map(prime, it.count(1)))\n",
    "    else:\n",
    "        return success if isprime(x) else fail"
   ]
  },
  {
   "cell_type": "code",
   "execution_count": 4,
   "metadata": {},
   "outputs": [
    {
     "ename": "NameError",
     "evalue": "name 'var' is not defined",
     "output_type": "error",
     "traceback": [
      "\u001b[1;31m---------------------------------------------------------------------------\u001b[0m",
      "\u001b[1;31mNameError\u001b[0m                                 Traceback (most recent call last)",
      "\u001b[1;32md:\\PROG\\pYTHON\\Logical Programming\\program1.ipynb Cell 3'\u001b[0m in \u001b[0;36m<cell line: 1>\u001b[1;34m()\u001b[0m\n\u001b[1;32m----> <a href='vscode-notebook-cell:/d%3A/PROG/pYTHON/Logical%20Programming/program1.ipynb#ch0000002?line=0'>1</a>\u001b[0m x \u001b[39m=\u001b[39m var()\n\u001b[0;32m      <a href='vscode-notebook-cell:/d%3A/PROG/pYTHON/Logical%20Programming/program1.ipynb#ch0000002?line=1'>2</a>\u001b[0m \u001b[39mprint\u001b[39m((\u001b[39mset\u001b[39m(run(\u001b[39m0\u001b[39m,x,(membero,x,(\u001b[39m12\u001b[39m,\u001b[39m14\u001b[39m,\u001b[39m15\u001b[39m,\u001b[39m19\u001b[39m,\u001b[39m20\u001b[39m,\u001b[39m21\u001b[39m,\u001b[39m22\u001b[39m,\u001b[39m23\u001b[39m,\u001b[39m29\u001b[39m,\u001b[39m30\u001b[39m,\u001b[39m41\u001b[39m,\u001b[39m44\u001b[39m,\u001b[39m52\u001b[39m,\u001b[39m62\u001b[39m,\u001b[39m65\u001b[39m,\u001b[39m85\u001b[39m)),\n\u001b[0;32m      <a href='vscode-notebook-cell:/d%3A/PROG/pYTHON/Logical%20Programming/program1.ipynb#ch0000002?line=2'>3</a>\u001b[0m (prime_check,x)))))\n\u001b[0;32m      <a href='vscode-notebook-cell:/d%3A/PROG/pYTHON/Logical%20Programming/program1.ipynb#ch0000002?line=3'>4</a>\u001b[0m \u001b[39mprint\u001b[39m((run(\u001b[39m10\u001b[39m,x,prime_check(x))))\n",
      "\u001b[1;31mNameError\u001b[0m: name 'var' is not defined"
     ]
    }
   ],
   "source": [
    "x = var()\n",
    "print((set(run(0,x,(membero,x,(12,14,15,19,20,21,22,23,29,30,41,44,52,62,65,85)),\n",
    "(prime_check,x)))))\n",
    "print((run(10,x,prime_check(x))))"
   ]
  }
 ],
 "metadata": {
  "kernelspec": {
   "display_name": "Python 3.10.2 64-bit",
   "language": "python",
   "name": "python3"
  },
  "language_info": {
   "codemirror_mode": {
    "name": "ipython",
    "version": 3
   },
   "file_extension": ".py",
   "mimetype": "text/x-python",
   "name": "python",
   "nbconvert_exporter": "python",
   "pygments_lexer": "ipython3",
   "version": "3.10.5"
  },
  "orig_nbformat": 4,
  "vscode": {
   "interpreter": {
    "hash": "d40dc84bac016c4df82d99ae09889c67c16f01b37eba5866564a90a028c14ae7"
   }
  }
 },
 "nbformat": 4,
 "nbformat_minor": 2
}
