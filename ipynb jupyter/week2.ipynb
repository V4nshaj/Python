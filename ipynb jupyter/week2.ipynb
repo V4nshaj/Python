{
 "cells": [
  {
   "cell_type": "code",
   "execution_count": 9,
   "metadata": {},
   "outputs": [
    {
     "name": "stdout",
     "output_type": "stream",
     "text": [
      "The original string is : void\n",
      "The mirror string : voib\n"
     ]
    }
   ],
   "source": [
    "\n",
    "#1\n",
    "test_str = input()\n",
    "\n",
    "# printing original string\n",
    "print(\"The original string is : \" + (test_str))\n",
    "\n",
    "# initializing mirror dictionary\n",
    "mir_dict = {'b':'d', 'd':'b', 'i':'i', 'o':'o', 'v':'v', 'w':'w', 'x':'x'}\n",
    "res = ''\n",
    "\n",
    "# accessing letters from dictionary\n",
    "for ele in test_str:\n",
    "\tif ele in mir_dict:\n",
    "\t\tres += mir_dict[ele]\n",
    "\t\n",
    "\t# if any character not present, flagging to be invalid\n",
    "\telse:\n",
    "\t\tres = \"Not Possible\"\n",
    "\t\tbreak\n",
    "\n",
    "# printing result\n",
    "print(\"The mirror string : \" + (res))\n"
   ]
  },
  {
   "cell_type": "code",
   "execution_count": 5,
   "metadata": {},
   "outputs": [
    {
     "name": "stdout",
     "output_type": "stream",
     "text": [
      "The original string 1 is : srmist\n",
      "The original string 2 is : istsrm\n",
      "Are two strings Rotationally equal ? : True\n"
     ]
    }
   ],
   "source": [
    "#2\n",
    "test_str1 = 'srmist'\n",
    "test_str2 = 'istsrm'\n",
    "  \n",
    "\n",
    "print(\"The original string 1 is : \" + str(test_str1))\n",
    "print(\"The original string 2 is : \" + str(test_str2))\n",
    "  \n",
    "res = False\n",
    "for idx in range(len(test_str1)):\n",
    "        if test_str1[idx: ] + test_str1[ :idx] == test_str2:\n",
    "            res = True\n",
    "            break\n",
    "print(\"Are two strings Rotationally equal ? : \" + str(res))"
   ]
  },
  {
   "cell_type": "code",
   "execution_count": 17,
   "metadata": {},
   "outputs": [
    {
     "name": "stdout",
     "output_type": "stream",
     "text": [
      "01110001\n"
     ]
    }
   ],
   "source": [
    "#3\n",
    "import random\n",
    "\n",
    "len = int(input(\"Length of binary string: \"))\n",
    "binary=\"\"\n",
    "\n",
    "\n",
    "for i in  range(len):\n",
    "    temp = f'{random.randint(0,1)}'\n",
    "    binary+=temp\n",
    "print(binary)\n"
   ]
  },
  {
   "cell_type": "code",
   "execution_count": 18,
   "metadata": {},
   "outputs": [
    {
     "name": "stdout",
     "output_type": "stream",
     "text": [
      "the cat is here\n"
     ]
    }
   ],
   "source": [
    "#4\n",
    "str = input()\n",
    "res = \"\"\n",
    "for i in str:\n",
    "    if(i.isalnum() or i==\" \"):\n",
    "        res+=i\n",
    "print(res)"
   ]
  },
  {
   "cell_type": "code",
   "execution_count": 20,
   "metadata": {},
   "outputs": [
    {
     "name": "stdout",
     "output_type": "stream",
     "text": [
      "Original lists:\n",
      "(9, 2, 3, 4)\n",
      "(3, 5, 2, 1)\n",
      "(2, 2, 3, 1)\n",
      "\n",
      "Element-wise sum of the said tuples:\n",
      "(14, 9, 8, 6)\n"
     ]
    }
   ],
   "source": [
    "#5\n",
    "x = (9,2,3,4)\n",
    "y = (3,5,2,1)\n",
    "z = (2,2,3,1)\n",
    "print(\"Original lists:\")\n",
    "print(x)\n",
    "print(y)\n",
    "print(z)\n",
    "print(\"\\nElement-wise sum of the said tuples:\")\n",
    "result = tuple(map(sum, zip(x, y, z)))\n",
    "print(result)"
   ]
  },
  {
   "cell_type": "code",
   "execution_count": 6,
   "metadata": {},
   "outputs": [
    {
     "name": "stdout",
     "output_type": "stream",
     "text": [
      "[('',), ('a', 'b'), ('a', 'b', 'c'), 'd']\n"
     ]
    }
   ],
   "source": [
    "#6\n",
    "L = [(), (), ('',), ('a', 'b'), ('a', 'b', 'c'), ('d')]\n",
    "L = [t for t in L if t]\n",
    "print(L)"
   ]
  },
  {
   "cell_type": "code",
   "execution_count": 22,
   "metadata": {},
   "outputs": [
    {
     "name": "stdout",
     "output_type": "stream",
     "text": [
      "3\n"
     ]
    }
   ],
   "source": [
    "#7\n",
    "num = [10,20,30,(10,20),40]\n",
    "ctr = 0\n",
    "for n in num:\n",
    "    if isinstance(n, tuple):\n",
    "        break\n",
    "    ctr += 1\n",
    "print(ctr)"
   ]
  },
  {
   "cell_type": "code",
   "execution_count": 25,
   "metadata": {},
   "outputs": [
    {
     "name": "stdout",
     "output_type": "stream",
     "text": [
      "[(4, 7, 10, 18, 0, 10), (5, 8, 13, 17, 4, 1)]\n"
     ]
    }
   ],
   "source": [
    "#8\n",
    "test_list = [[(4, 5), (7, 8)], [(10, 13), (18, 17)], [(0, 4), (10, 1)]]\n",
    "  \n",
    "  \n",
    "# flattening \n",
    "temp = [ele for sub in test_list for ele in sub]\n",
    "  \n",
    "# joining to form column pairs\n",
    "res = list(zip(*temp))\n",
    "  \n",
    "# printing result \n",
    "print(res)"
   ]
  },
  {
   "cell_type": "code",
   "execution_count": 28,
   "metadata": {},
   "outputs": [
    {
     "name": "stdout",
     "output_type": "stream",
     "text": [
      "No of unique items in the list are: 5\n"
     ]
    }
   ],
   "source": [
    "#9\n",
    "input_list = [1, 2, 2, 5, 8, 4, 4, 8]\n",
    "\n",
    "# converting our list to set\n",
    "new_set = set(input_list)\n",
    "count=0\n",
    "for i in new_set:\n",
    "    count+=1\n",
    "print(\"No of unique items in the list are:\", count)\n"
   ]
  },
  {
   "cell_type": "code",
   "execution_count": 30,
   "metadata": {},
   "outputs": [
    {
     "name": "stdout",
     "output_type": "stream",
     "text": [
      "3 2 4\n",
      "3 4 2\n",
      "2 3 4\n",
      "2 4 3\n",
      "4 3 2\n",
      "4 2 3\n"
     ]
    }
   ],
   "source": [
    "#10\n",
    "list =[3,2,4]\n",
    "\n",
    "for i in range(3):\n",
    "    for j in range(3):\n",
    "        for k in range (3):\n",
    "            if(i!=j and j!=k and k!=i):\n",
    "                print(list[i], list[j], list[k])"
   ]
  },
  {
   "cell_type": "code",
   "execution_count": 32,
   "metadata": {},
   "outputs": [
    {
     "name": "stdout",
     "output_type": "stream",
     "text": [
      "2, 4, 8, 10, "
     ]
    }
   ],
   "source": [
    "#11\n",
    "def printEv(list):\n",
    "    for i in list:\n",
    "        if i %2==0:\n",
    "            print(i,end=\", \")\n",
    "            \n",
    "list1=[2,3,4,8,10,15]\n",
    "printEv(list1)"
   ]
  },
  {
   "cell_type": "code",
   "execution_count": 34,
   "metadata": {},
   "outputs": [
    {
     "name": "stdout",
     "output_type": "stream",
     "text": [
      "Palindrome\n"
     ]
    }
   ],
   "source": [
    "#12\n",
    "def checkPalin(str):\n",
    "    if(str==str[::-1]):\n",
    "        return True\n",
    "    else:\n",
    "        return False\n",
    "    \n",
    "str=input()\n",
    "if(checkPalin(str)):\n",
    "    print(\"Palindrome\")\n",
    "else:\n",
    "    print(\"Not Palindrome\")"
   ]
  },
  {
   "cell_type": "code",
   "execution_count": 38,
   "metadata": {},
   "outputs": [
    {
     "name": "stdout",
     "output_type": "stream",
     "text": [
      "7 is a prime number\n"
     ]
    }
   ],
   "source": [
    "#13\n",
    "def checkPrime(num):\n",
    "    if num > 1:\n",
    "  \n",
    "    # Iterate from 2 to n / 2\n",
    "        for i in range(2, int(num/2)+1):\n",
    "  \n",
    "        # If num is divisible by any number between\n",
    "        # 2 and n / 2, it is not prime\n",
    "            if (num % i) == 0:\n",
    "                print(num, \"is not a prime number\")\n",
    "                break\n",
    "        else:\n",
    "            print(num, \"is a prime number\")\n",
    "  \n",
    "    else:\n",
    "        print(num, \"is not a prime number\")\n",
    "    \n",
    "n =int(input())\n",
    "checkPrime(n)"
   ]
  }
 ],
 "metadata": {
  "interpreter": {
   "hash": "8d1942abd057456d262dcfa9360a4daaed889b986cec42f0eaa405f4d7997a30"
  },
  "kernelspec": {
   "display_name": "Python 3.9.7 ('base')",
   "language": "python",
   "name": "python3"
  },
  "language_info": {
   "codemirror_mode": {
    "name": "ipython",
    "version": 3
   },
   "file_extension": ".py",
   "mimetype": "text/x-python",
   "name": "python",
   "nbconvert_exporter": "python",
   "pygments_lexer": "ipython3",
   "version": "3.9.7"
  },
  "orig_nbformat": 4
 },
 "nbformat": 4,
 "nbformat_minor": 2
}
