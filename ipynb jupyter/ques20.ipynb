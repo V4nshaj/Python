{
 "cells": [
  {
   "cell_type": "code",
   "execution_count": null,
   "metadata": {},
   "outputs": [
    {
     "name": "stdout",
     "output_type": "stream",
     "text": [
      "1000\n",
      "1040\n",
      "1080\n",
      "1120\n",
      "1160\n",
      "1200\n",
      "1240\n",
      "1280\n",
      "1320\n",
      "1360\n",
      "1400\n",
      "1440\n",
      "1480\n",
      "1520\n",
      "1560\n",
      "1600\n",
      "1640\n",
      "1680\n",
      "1720\n",
      "1760\n",
      "1800\n",
      "1840\n",
      "1880\n",
      "1920\n",
      "1960\n",
      "2000\n"
     ]
    }
   ],
   "source": [
    "#1\n",
    "for i in range (1000,2001):\n",
    "    if(i%8==0 and i%5==0):\n",
    "        print(i)"
   ]
  },
  {
   "cell_type": "code",
   "execution_count": 4,
   "metadata": {},
   "outputs": [
    {
     "name": "stdout",
     "output_type": "stream",
     "text": [
      "Well guessed!\n"
     ]
    }
   ],
   "source": [
    "#2\n",
    "while True:\n",
    "    inp = int(input(\"Guess a number smaller than 9: \"))\n",
    "    if(inp<9):\n",
    "        print(\"Well guessed!\")\n",
    "        break\n",
    "\n"
   ]
  },
  {
   "cell_type": "code",
   "execution_count": 5,
   "metadata": {},
   "outputs": [
    {
     "name": "stdout",
     "output_type": "stream",
     "text": [
      "*\n",
      "**\n",
      "***\n",
      "****\n",
      "*****\n",
      "******\n",
      "****\n",
      "***\n",
      "**\n",
      "*\n"
     ]
    }
   ],
   "source": [
    "#3\n",
    "for i in range (6):\n",
    "    for j in range (i+1):\n",
    "        print(\"*\",end=\"\")\n",
    "    print(\"\")\n",
    "    \n",
    "\n",
    "   \n",
    "for i in range (4,0,-1):\n",
    "    for j in range (i,0,-1):\n",
    "        print(\"*\",end=\"\")\n",
    "    print(\"\")"
   ]
  },
  {
   "cell_type": "code",
   "execution_count": 6,
   "metadata": {},
   "outputs": [
    {
     "name": "stdout",
     "output_type": "stream",
     "text": [
      "jahsnaV\n"
     ]
    }
   ],
   "source": [
    "#4\n",
    "str = input(\"enter any string: \")\n",
    "rev = \"\"\n",
    "for i in range(len(str)):\n",
    "    rev = str[i] + rev\n",
    "print(rev)\n",
    "\n"
   ]
  },
  {
   "cell_type": "code",
   "execution_count": null,
   "metadata": {},
   "outputs": [
    {
     "name": "stdout",
     "output_type": "stream",
     "text": [
      "0 0 0 0 0 \n",
      "0 1 2 3 4 \n",
      "0 2 4 6 8 \n",
      "0 3 6 9 12 \n",
      "0 4 8 12 16 \n"
     ]
    }
   ],
   "source": [
    "#5\n",
    "m = int(input(\"Enter the length of row: \"))\n",
    "n = int(input(\"Enter the length of column: \"))\n",
    "\n",
    "for i in range(m):\n",
    "    for j in range(n):\n",
    "        print(i*j, end=\" \")\n",
    "    print(\"\")\n"
   ]
  },
  {
   "cell_type": "code",
   "execution_count": null,
   "metadata": {},
   "outputs": [
    {
     "name": "stdout",
     "output_type": "stream",
     "text": [
      "Letters  5\n",
      "Digits  3\n"
     ]
    }
   ],
   "source": [
    "#6\n",
    "str = input(\"Enter any string: \")\n",
    "letter = 0\n",
    "dig = 0\n",
    "for i in str:\n",
    "    if i.isalpha():\n",
    "        letter = letter+1\n",
    "    if i.isdigit():\n",
    "        dig = dig+1\n",
    "print(\"Letters \", letter)\n",
    "print(\"Digits \", dig)\n"
   ]
  },
  {
   "cell_type": "code",
   "execution_count": null,
   "metadata": {},
   "outputs": [],
   "source": [
    "#7\n",
    "str = input(\"Enter any string: \")\n",
    "alphab = False\n",
    "numb = False\n",
    "charb = False\n",
    "upperb = False\n",
    "lowerb = False\n",
    "l = len(str)\n",
    "for i in str:\n",
    "    if(len(str) < 6 or len(str) > 16):\n",
    "        break\n",
    "\n",
    "    if(i.isalpha()):\n",
    "        alphab = True\n",
    "    if(i.isupper()):\n",
    "        upperb = True\n",
    "    if(i.islower()):\n",
    "        lowerb = True\n",
    "    if(i.isdigit()):\n",
    "        numb = True\n",
    "    if((str.find('$') != -1) or (str.find('#') != -1) or (str.find('@') != -1)):\n",
    "        charb = True\n",
    "\n",
    "if(alphab and numb and charb and upperb and lowerb):\n",
    "    print(\"Valid Password\")\n",
    "else:\n",
    "    print(\"Not a Valid Password\")\n"
   ]
  },
  {
   "cell_type": "code",
   "execution_count": null,
   "metadata": {},
   "outputs": [
    {
     "name": "stdout",
     "output_type": "stream",
     "text": [
      "200, 202, 204, 206, 208, 220, 222, 224, 226, 228, 240, 242, 244, 246, 248, 260, 262, 264, 266, 268, 280, 282, 284, 286, 288, 400, "
     ]
    }
   ],
   "source": [
    "#8\n",
    "for i in range(100, 401):\n",
    "    i = str(i)\n",
    "    a = int(i[0])\n",
    "    b = int(i[1])\n",
    "    c = int(i[2])\n",
    "    if(a % 2 == 0 and b % 2 == 0 and c % 2 == 0):\n",
    "        print(i, end=\", \")\n"
   ]
  },
  {
   "cell_type": "code",
   "execution_count": null,
   "metadata": {},
   "outputs": [
    {
     "name": "stdout",
     "output_type": "stream",
     "text": [
      "31\n"
     ]
    }
   ],
   "source": [
    "#9\n",
    "monthName = input()\n",
    "\n",
    "if(monthName.lower() == \"january\" or monthName.lower() == \"march\" or monthName.lower() == \"may\" or monthName.lower() == \"july\" or monthName.lower() == \"august\" or monthName.lower() == \"october\" or monthName.lower() == \"december\"):\n",
    "    print(31)\n",
    "elif(monthName.lower() == \"february\"):\n",
    "    print(28)\n",
    "else:\n",
    "    print(30)\n"
   ]
  },
  {
   "cell_type": "code",
   "execution_count": null,
   "metadata": {},
   "outputs": [
    {
     "name": "stdout",
     "output_type": "stream",
     "text": [
      "200\n"
     ]
    }
   ],
   "source": [
    "#10\n",
    "a = int(input())\n",
    "b = int(input())\n",
    "c = a+b\n",
    "if(c >= 105 and c <= 200):\n",
    "    print(200)\n",
    "else:\n",
    "    print(c)\n"
   ]
  },
  {
   "cell_type": "code",
   "execution_count": null,
   "metadata": {},
   "outputs": [
    {
     "name": "stdout",
     "output_type": "stream",
     "text": [
      "999999999\n",
      "88888888\n",
      "7777777\n",
      "666666\n",
      "55555\n",
      "4444\n",
      "333\n",
      "22\n",
      "1\n"
     ]
    }
   ],
   "source": [
    "#11\n",
    "for i in range(9, 0, -1):\n",
    "    for j in range(i):\n",
    "        print(i, end=\"\")\n",
    "    print()\n"
   ]
  },
  {
   "cell_type": "code",
   "execution_count": null,
   "metadata": {},
   "outputs": [
    {
     "name": "stdout",
     "output_type": "stream",
     "text": [
      "**\n",
      "***\n",
      "******\n",
      "*****\n"
     ]
    }
   ],
   "source": [
    "#12\n",
    "def histogram(items):\n",
    "    for n in items:\n",
    "        output = ''\n",
    "        times = n\n",
    "        while(times > 0):\n",
    "            output += '*'\n",
    "            times = times - 1\n",
    "        print(output)\n",
    "\n",
    "\n",
    "histogram([2, 3, 6, 5])\n"
   ]
  },
  {
   "cell_type": "code",
   "execution_count": null,
   "metadata": {},
   "outputs": [
    {
     "name": "stdout",
     "output_type": "stream",
     "text": [
      "True\n"
     ]
    }
   ],
   "source": [
    "#13\n",
    "a = int(input())\n",
    "b = int(input())\n",
    "\n",
    "if(a == b or a-b == 5 or b-a == 5):\n",
    "    print(\"True\")\n"
   ]
  },
  {
   "cell_type": "code",
   "execution_count": null,
   "metadata": {},
   "outputs": [
    {
     "name": "stdout",
     "output_type": "stream",
     "text": [
      "6.324555320336759\n"
     ]
    }
   ],
   "source": [
    "#14\n",
    "import math\n",
    "p1 = [4, 0]\n",
    "p2 = [6, 6]\n",
    "distance = math.sqrt(((p1[0]-p2[0])**2)+((p1[1]-p2[1])**2))\n",
    "\n",
    "print(distance)\n"
   ]
  },
  {
   "cell_type": "code",
   "execution_count": null,
   "metadata": {},
   "outputs": [
    {
     "name": "stdout",
     "output_type": "stream",
     "text": [
      "Duplicates present\n"
     ]
    }
   ],
   "source": [
    "#15\n",
    "list=[2,8,9,7,7]\n",
    "\n",
    "if(len(list)==len(set(list))):\n",
    "    print(\"No duplicates\")\n",
    "else:\n",
    "    print(\"Duplicates present\")"
   ]
  },
  {
   "cell_type": "code",
   "execution_count": null,
   "metadata": {},
   "outputs": [
    {
     "name": "stdout",
     "output_type": "stream",
     "text": [
      "{'h': 2, 'i': 1, ' ': 1, 't': 1, 'e': 2, 'r': 1}\n"
     ]
    }
   ],
   "source": [
    "#Question 16\n",
    "str1=input()\n",
    "dict = {}\n",
    "for n in str1:\n",
    "        keys = dict.keys()\n",
    "        if n in keys:\n",
    "            dict[n] += 1\n",
    "        else:\n",
    "            dict[n] = 1\n",
    "            \n",
    "print(dict)"
   ]
  },
  {
   "cell_type": "code",
   "execution_count": null,
   "metadata": {},
   "outputs": [],
   "source": [
    "#17\n",
    "\n",
    "a=int(input())\n",
    "def getSum(n):\n",
    "    \n",
    "    sum = 0\n",
    "    while (n > 0):\n",
    "       \n",
    "        sum = sum + (n % 10)\n",
    "        n = n//10\n",
    "       \n",
    "    return sum\n",
    "while(True):\n",
    "    if(a-sum(a)):\n",
    "        break\n",
    "    else:\n",
    "        a=(a-sum)"
   ]
  },
  {
   "cell_type": "code",
   "execution_count": null,
   "metadata": {},
   "outputs": [
    {
     "name": "stdout",
     "output_type": "stream",
     "text": [
      "1 3 4 8 "
     ]
    }
   ],
   "source": [
    "#18\n",
    "import sys\n",
    "while(True):\n",
    "    phone_no=(input())\n",
    "    if(len(phone_no)==10):\n",
    "        dict={\"0\":0,\"1\":0,\"2\":0,\"3\":0,\"4\":0,\"5\":0,\"6\":0,\"7\":0,\"8\":0,\"9\":0}\n",
    "        for i in phone_no:\n",
    "            dict[i]+=1\n",
    "    \n",
    "        for key in dict:\n",
    "            if(dict[key]==0):\n",
    "        \n",
    "                print(key,end=\" \")\n",
    "        break\n",
    "    else:\n",
    "        print(\"Enter valid phone no\")"
   ]
  },
  {
   "cell_type": "code",
   "execution_count": null,
   "metadata": {},
   "outputs": [
    {
     "name": "stdout",
     "output_type": "stream",
     "text": [
      "484\n"
     ]
    }
   ],
   "source": [
    "#19\n",
    "\n",
    "        \n",
    "while(True):\n",
    "    a=((input()))\n",
    "    sum = int(a) + int(a[::-1])\n",
    "   \n",
    "    sum = str(sum)\n",
    "    if(sum==sum[::-1]):\n",
    "        print(sum)\n",
    "        break"
   ]
  },
  {
   "cell_type": "code",
   "execution_count": null,
   "metadata": {},
   "outputs": [
    {
     "name": "stdout",
     "output_type": "stream",
     "text": [
      "8.0\n"
     ]
    }
   ],
   "source": [
    "#20\n",
    "q =int(input())\n",
    "third=int(input())\n",
    "third_last = int(input())\n",
    "print((2*q)/(third+third_last))\n"
   ]
  }
 ],
 "metadata": {
  "interpreter": {
   "hash": "8d1942abd057456d262dcfa9360a4daaed889b986cec42f0eaa405f4d7997a30"
  },
  "kernelspec": {
   "display_name": "Python 3.9.7 ('base')",
   "language": "python",
   "name": "python3"
  },
  "language_info": {
   "codemirror_mode": {
    "name": "ipython",
    "version": 3
   },
   "file_extension": ".py",
   "mimetype": "text/x-python",
   "name": "python",
   "nbconvert_exporter": "python",
   "pygments_lexer": "ipython3",
   "version": "3.10.2"
  },
  "orig_nbformat": 4
 },
 "nbformat": 4,
 "nbformat_minor": 2
}
