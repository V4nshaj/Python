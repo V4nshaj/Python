{
 "cells": [
  {
   "cell_type": "code",
   "execution_count": 2,
   "metadata": {},
   "outputs": [
    {
     "name": "stdout",
     "output_type": "stream",
     "text": [
      "Original attributes and their values of the SRMIST class:\n",
      "school -> Btech\n",
      "dept1 -> management\n",
      "dept2 -> Science\n",
      "dept3 -> Math\n",
      "dept4 -> Python\n",
      "\n",
      "After adding the student_class, attributes and their values with the said class:\n",
      "school -> Btech\n",
      "dept1 -> management\n",
      "dept2 -> Science\n",
      "dept3 -> Math\n",
      "dept4 -> Python\n",
      "dept5 -> Java\n",
      "\n",
      "After removing the dept1, dept2 attributes and their values from the said class:\n",
      "school -> Btech\n",
      "dept3 -> Math\n",
      "dept4 -> Python\n",
      "dept5 -> Java\n"
     ]
    }
   ],
   "source": [
    "class SRMIST:\n",
    "    school = 'Btech'\n",
    "    dept1 = 'management' \n",
    "    dept2 = 'Science' \n",
    "    dept3 = 'Math' \n",
    "    dept4 = 'Python' \n",
    "\n",
    "print(\"Original attributes and their values of the SRMIST class:\")\n",
    "for attr, value in SRMIST.__dict__.items():\n",
    "    if not attr.startswith('_'):\n",
    "        print(f'{attr} -> {value}')\n",
    "print(\"\\nAfter adding the student_class, attributes and their values with the said class:\")\n",
    "SRMIST.dept5 = 'Java'\n",
    "for attr, value in SRMIST.__dict__.items():\n",
    "    if not attr.startswith('_'):\n",
    "        print(f'{attr} -> {value}')\n",
    "print(\"\\nAfter removing the dept1, dept2 attributes and their values from the said class:\")\n",
    "del SRMIST.dept1\n",
    "del SRMIST.dept2\n",
    "#delattr(SRMIST, 'dept1', 'dept2')\n",
    "for attr, value in SRMIST.__dict__.items():\n",
    "    if not attr.startswith('_'):\n",
    "        print(f'{attr} -> {value}')"
   ]
  },
  {
   "cell_type": "code",
   "execution_count": 5,
   "metadata": {},
   "outputs": [
    {
     "name": "stdout",
     "output_type": "stream",
     "text": [
      "True\n",
      "False\n",
      "False\n",
      "False\n",
      "True\n",
      "True\n",
      "\n",
      "Check whether the said classes are subclasses of the built-in object class or not.\n",
      "True\n",
      "True\n",
      "True\n",
      "True\n"
     ]
    }
   ],
   "source": [
    "class CTECH:\n",
    "    pass #empty class pass statement is used that doesnt do anything \n",
    "class CINTEL:\n",
    "    pass #empty class pass statement is used that doesnt do anything \n",
    "class NWC:\n",
    "    pass #empty class pass statement is used that doesnt do anything \n",
    "class DSBS:\n",
    "    pass #empty class pass statement is used that doesnt do anything \n",
    "company1 = CTECH()\n",
    "company2 = CINTEL()\n",
    "company3 = NWC()\n",
    "company4 = DSBS()\n",
    "print(isinstance(company1, CTECH))\n",
    "print(isinstance(company2, CTECH))\n",
    "print(isinstance(company3, CINTEL))\n",
    "print(isinstance(company4, NWC))\n",
    "print(isinstance(company3, NWC))\n",
    "print(isinstance(company4, DSBS))\n",
    "print(\"\\nCheck whether the said classes are subclasses of the built-in object class or not.\")\n",
    "print(issubclass(CTECH, object))\n",
    "print(issubclass(CINTEL, object)) \n",
    "print(issubclass(NWC, object)) \n",
    "print(issubclass(DSBS, object)) \n"
   ]
  },
  {
   "cell_type": "code",
   "execution_count": 1,
   "metadata": {},
   "outputs": [
    {
     "name": "stdout",
     "output_type": "stream",
     "text": [
      "Department name:  Science\n",
      "Department name:  Math\n",
      "Department name:  SCO\n"
     ]
    }
   ],
   "source": [
    "class Dept:\n",
    "\n",
    "    def dep(self, s=None):\n",
    "        if s != None:\n",
    "            return s\n",
    "        else:\n",
    "            return 'SCO'\n",
    "\n",
    "\n",
    "obj = Dept()\n",
    "a1 = obj.dep(\"Science\")\n",
    "print(\"Department name: \", a1)\n",
    "a2 = obj.dep(\"Math\")\n",
    "print(\"Department name: \", a2)\n",
    "a3 = obj.dep()\n",
    "print(\"Department name: \", a3)\n"
   ]
  },
  {
   "cell_type": "code",
   "execution_count": 2,
   "metadata": {},
   "outputs": [
    {
     "name": "stdout",
     "output_type": "stream",
     "text": [
      "Area of rectangle=  0\n",
      "Area of rectangle(square)=  36\n",
      "Area of rectangle =  16\n"
     ]
    }
   ],
   "source": [
    "class Rectangle:\n",
    "    def Rectangle(self, x=None, y=None):\n",
    "        if x != None and y != None:\n",
    "            return x*y\n",
    "        elif x != None:\n",
    "            return x*x\n",
    "        else:\n",
    "            return 0\n",
    "\n",
    "\n",
    "obj = Rectangle()\n",
    "x1 = obj.Rectangle()\n",
    "print(\"Area of rectangle= \", x1)\n",
    "x2 = obj.Rectangle(6)\n",
    "print(\"Area of rectangle(square)= \", x2)\n",
    "x3 = obj.Rectangle(2, 8)\n",
    "print(\"Area of rectangle = \", x3)\n",
    "\n"
   ]
  },
  {
   "cell_type": "code",
   "execution_count": 3,
   "metadata": {},
   "outputs": [
    {
     "name": "stdout",
     "output_type": "stream",
     "text": [
      "List:  ['banana', 'apple', 10]\n",
      "Tuple:  ('banana', 8, 'mango')\n",
      "String:  hello\n"
     ]
    }
   ],
   "source": [
    "# function overloading\n",
    "class PrintDT:\n",
    "    def python_data(self, x=None):\n",
    "        if isinstance(x, list):\n",
    "            return x\n",
    "        elif isinstance(x, tuple):\n",
    "            return x\n",
    "        elif isinstance(x, str):\n",
    "            return x\n",
    "        else:\n",
    "            return 0\n",
    "\n",
    "\n",
    "obj = PrintDT()\n",
    "a1=obj.python_data(['banana', 'apple', 10])\n",
    "l=len(a1)\n",
    "print(\"List: \", a1)\n",
    "a2=obj.python_data(('banana', 8, 'mango'))\n",
    "print(\"Tuple: \", a2)\n",
    "a3=obj.python_data(\"hello\")\n",
    "print(\"String: \", a3)"
   ]
  },
  {
   "cell_type": "code",
   "execution_count": 1,
   "metadata": {},
   "outputs": [
    {
     "name": "stdout",
     "output_type": "stream",
     "text": [
      "CUB -> 15000\n",
      "HDFC -> 30000\n",
      "Indian Bank -> 40000\n"
     ]
    }
   ],
   "source": [
    "class Banks_SRMIST:\n",
    "    def getBalance():\n",
    "        return 0\n",
    "class CUB(Banks_SRMIST):\n",
    "    def getBalance(balance):\n",
    "        return balance\n",
    "class HDFC(Banks_SRMIST):\n",
    "    def getBalance(balance):\n",
    "        return balance\n",
    "class Indian_Bank(Banks_SRMIST):\n",
    "    def getBalance(balance):\n",
    "        return balance\n",
    "    \n",
    "Banks_SRMIST()\n",
    "\n",
    "print('CUB -> '  f'{CUB.getBalance(15000)}')\n",
    "print('HDFC -> ' f'{HDFC.getBalance(30000)}')\n",
    "print('Indian Bank -> ' f'{Indian_Bank.getBalance(40000)}')"
   ]
  },
  {
   "cell_type": "code",
   "execution_count": 4,
   "metadata": {},
   "outputs": [
    {
     "name": "stdout",
     "output_type": "stream",
     "text": [
      "Time in Hours: 4 hours and  10  mins\n",
      "Time in Minutes:  250\n"
     ]
    }
   ],
   "source": [
    "class Time():\n",
    "    def __init__(self, hours, mins):\n",
    "        self.hours = hours\n",
    "        self.mins = mins\n",
    "\n",
    "\n",
    "    def addTime(t1, t2):\n",
    "        t3 = Time(0, 0)\n",
    "        if t1.mins+t2.mins > 60:\n",
    "            t3.hours = t3.hours+1\n",
    "            t3.mins = t1.mins+t2.mins-60\n",
    "        t3.hours = t3.hours+t1.hours+t2.hours\n",
    "        return t3\n",
    "\n",
    "\n",
    "    def displayTime(self):\n",
    "        print(\"Time in Hours:\", self.hours, \"hours and \", self.mins, \" mins\")\n",
    "\n",
    "\n",
    "    def displayMinute(self):\n",
    "        print(\"Time in Minutes: \", (self.hours*60)+self.mins)\n",
    "\n",
    "\n",
    "a = Time(2, 50)\n",
    "b = Time(1, 20)\n",
    "c = Time.addTime(a, b)\n",
    "c.displayTime()\n",
    "c.displayMinute()\n"
   ]
  },
  {
   "cell_type": "code",
   "execution_count": 6,
   "metadata": {},
   "outputs": [
    {
     "name": "stdout",
     "output_type": "stream",
     "text": [
      "The perimeter of the triangle is : 12.00\n",
      "The area of the triangle is : 6.00\n"
     ]
    }
   ],
   "source": [
    "class Triangle:\n",
    "    def Perimeter(self, s1, s2, s3):\n",
    "        return (s1 + s2 + s3)\n",
    "\n",
    "    def Area(self, s1, s2, s3):\n",
    "        p = (s1 + s2 + s3)\n",
    "        s = p/2\n",
    "        return (s * (s-s1) * (s-s2)*(s-s3))**0.5\n",
    "\n",
    "t = Triangle()\n",
    "print(\"The perimeter of the triangle is : %.2f\" % t.Perimeter(3, 4, 5))\n",
    "print(\"The area of the triangle is : %.2f\" % t.Area(3, 4, 5))"
   ]
  }
 ],
 "metadata": {
  "interpreter": {
   "hash": "b3ba2566441a7c06988d0923437866b63cedc61552a5af99d1f4fb67d367b25f"
  },
  "kernelspec": {
   "display_name": "Python 3.9.7 ('base')",
   "language": "python",
   "name": "python3"
  },
  "language_info": {
   "codemirror_mode": {
    "name": "ipython",
    "version": 3
   },
   "file_extension": ".py",
   "mimetype": "text/x-python",
   "name": "python",
   "nbconvert_exporter": "python",
   "pygments_lexer": "ipython3",
   "version": "3.9.7"
  },
  "orig_nbformat": 4
 },
 "nbformat": 4,
 "nbformat_minor": 2
}
