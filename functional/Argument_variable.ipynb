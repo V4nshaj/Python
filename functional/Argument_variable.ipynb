{
 "cells": [
  {
   "cell_type": "code",
   "execution_count": 3,
   "metadata": {},
   "outputs": [
    {
     "name": "stdout",
     "output_type": "stream",
     "text": [
      "2\n",
      "3\n",
      "5\n",
      "10\n",
      "20\n"
     ]
    }
   ],
   "source": [
    "def add(*args):\n",
    "    sum=0\n",
    "    for n in args:\n",
    "        sum=sum+n\n",
    "        print(n)\n",
    "    return sum\n",
    "print(add(2,3,5,10))"
   ]
  },
  {
   "cell_type": "code",
   "execution_count": 4,
   "metadata": {},
   "outputs": [
    {
     "name": "stdout",
     "output_type": "stream",
     "text": [
      "name : iphone\n",
      "price : 700\n",
      "name : ipad\n",
      "price : 400\n",
      "desc : This is an ipad\n"
     ]
    }
   ],
   "source": [
    "def prod(**kwargs):\n",
    "    for key, value in kwargs.items():\n",
    "        print(key+' : '+value)\n",
    "\n",
    "prod(name= 'iphone', price = '700')\n",
    "prod(name= 'ipad', price = '400', desc = 'This is an ipad')"
   ]
  },
  {
   "cell_type": "code",
   "execution_count": null,
   "metadata": {},
   "outputs": [],
   "source": []
  }
 ],
 "metadata": {
  "kernelspec": {
   "display_name": "Python 3",
   "language": "python",
   "name": "python3"
  },
  "language_info": {
   "codemirror_mode": {
    "name": "ipython",
    "version": 3
   },
   "file_extension": ".py",
   "mimetype": "text/x-python",
   "name": "python",
   "nbconvert_exporter": "python",
   "pygments_lexer": "ipython3",
   "version": "3.12.1"
  }
 },
 "nbformat": 4,
 "nbformat_minor": 2
}
