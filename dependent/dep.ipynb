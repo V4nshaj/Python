{
 "cells": [
  {
   "cell_type": "code",
   "execution_count": 1,
   "metadata": {},
   "outputs": [
    {
     "data": {
      "text/plain": [
       "2"
      ]
     },
     "execution_count": 1,
     "metadata": {},
     "output_type": "execute_result"
    }
   ],
   "source": [
    "from typing_extensions import Literal\n",
    "def function(x: Literal[1]) -> Literal[1]:\n",
    " return x \n",
    "function(1) \n",
    "# => OK! \n",
    "function(2)\n",
    " # => Argument has incompatible type \"Literal[2]\"; expected \"Literal[1]\""
   ]
  },
  {
   "cell_type": "code",
   "execution_count": 4,
   "metadata": {},
   "outputs": [
    {
     "ename": "SyntaxError",
     "evalue": "illegal target for annotation (3025518936.py, line 11)",
     "output_type": "error",
     "traceback": [
      "\u001b[1;36m  Input \u001b[1;32mIn [4]\u001b[1;36m\u001b[0m\n\u001b[1;33m    product(x, y) : Iterator[Tuple[1, 2]]\u001b[0m\n\u001b[1;37m    ^\u001b[0m\n\u001b[1;31mSyntaxError\u001b[0m\u001b[1;31m:\u001b[0m illegal target for annotation\n"
     ]
    }
   ],
   "source": [
    "from typing_extensions import Iterator\n",
    "from typing_extensions import Tuple\n",
    "\n",
    "\n",
    "def product(*args :Tuple[n]) -> Iterator[Tuple[n]]: pass\n",
    "\n",
    "\n",
    "x : Iterator[T1]\n",
    "y : Iterator[T2]\n",
    "z : Iterator[T3]\n",
    "product(x, y) :: Iterator[Tuple[T1, T2]]\n",
    "product(x, y, z) :: Iterator[Tuple[T1, T2, T3]]\n",
    "product(x, x, x, x) :: Iterator[Tuple[T1, T1, T1, T1]]\n"
   ]
  }
 ],
 "metadata": {
  "kernelspec": {
   "display_name": "Python 3.10.5 64-bit",
   "language": "python",
   "name": "python3"
  },
  "language_info": {
   "codemirror_mode": {
    "name": "ipython",
    "version": 3
   },
   "file_extension": ".py",
   "mimetype": "text/x-python",
   "name": "python",
   "nbconvert_exporter": "python",
   "pygments_lexer": "ipython3",
   "version": "3.10.5"
  },
  "orig_nbformat": 4,
  "vscode": {
   "interpreter": {
    "hash": "d40dc84bac016c4df82d99ae09889c67c16f01b37eba5866564a90a028c14ae7"
   }
  }
 },
 "nbformat": 4,
 "nbformat_minor": 2
}
